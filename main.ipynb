{
 "cells": [
  {
   "cell_type": "markdown",
   "metadata": {},
   "source": [
    "# Project 1\n",
    "By Alexander Hatle"
   ]
  },
  {
   "cell_type": "code",
   "execution_count": 146,
   "metadata": {},
   "outputs": [],
   "source": [
    "import numpy as np\n",
    "import scipy.linalg as linalg\n",
    "np.random.seed(40)\n",
    "#<img src=\"\">"
   ]
  },
  {
   "cell_type": "code",
   "execution_count": 147,
   "metadata": {},
   "outputs": [],
   "source": [
    "def generate_A(m,n):\n",
    "    \"\"\"\n",
    "    Generates m times n with correlated columns.\n",
    "    Input:\n",
    "        m: int, first dimension of A\n",
    "        n: int, second dimension of A\n",
    "    output:\n",
    "        A: (m,n) array\n",
    "    \"\"\"\n",
    "\n",
    "    cov_eigvecs = np.random.uniform(-1.0,1.0,(n,n))\n",
    "    cov = cov_eigvecs.T @ cov_eigvecs\n",
    "    v = np.sqrt(np.diag(cov))\n",
    "    outer_v = np.outer(v, v)\n",
    "    corr = cov / outer_v\n",
    "    corr[cov == 0] = 0\n",
    "    chol = linalg.cholesky(corr, lower=True) \n",
    "    A = np.random.normal(0, 1.0,(m,n))\n",
    "    A = np.dot(A,chol.T)\n",
    "    return A"
   ]
  },
  {
   "cell_type": "markdown",
   "metadata": {},
   "source": [
    "## Task 1\n",
    "### a)"
   ]
  },
  {
   "cell_type": "markdown",
   "metadata": {},
   "source": [
    "<img src=\"pictures/Screenshot 2022-09-19 at 11.07.35.png\">"
   ]
  },
  {
   "cell_type": "markdown",
   "metadata": {},
   "source": [
    "$$A = \\begin{pmatrix}0 & 0 & 0 \\\\ 0 & 0 & 0\\end{pmatrix} \\quad \\text{and} \\quad \\vec y = \\begin{pmatrix}1  \\\\  1\\end{pmatrix}$$"
   ]
  },
  {
   "cell_type": "markdown",
   "metadata": {},
   "source": [
    "<img src=\"pictures/Screenshot 2022-09-19 at 11.12.01.png\">"
   ]
  },
  {
   "cell_type": "markdown",
   "metadata": {},
   "source": [
    "$$A = \\begin{pmatrix}0 & 0 & 0 \\\\ 0 & 0 & 0\\end{pmatrix} \\quad \\text{and} \\quad \\vec y = \\begin{pmatrix}0  \\\\  0\\end{pmatrix}$$"
   ]
  },
  {
   "cell_type": "markdown",
   "metadata": {},
   "source": [
    "### b)"
   ]
  },
  {
   "cell_type": "markdown",
   "metadata": {},
   "source": [
    "<img src=\"pictures/Screenshot 2022-09-19 at 11.14.49.png\">"
   ]
  },
  {
   "cell_type": "markdown",
   "metadata": {},
   "source": [
    "We know that a matrix A is symmetric if $A^T=A$ \n",
    "$$(A^{T}A)^{T}=A^{T}(A^{T})^{T} = A^{T}A \\Rightarrow \\text{Symmetric}$$\n",
    "$$(AA^{T})^{T}=(A^{T})^{T} A^{T}= AA^{T} \\Rightarrow \\text{Symmetric}$$\n",
    "A matrix is positive semi-definite if it satisfies\n",
    "$$\\vec x^{T}A\\vec x \\ge 0, \\qquad \\text{for all } x\\in \\mathbb{R}^{n}$$\n",
    "$$\\vec x^{T}A^{T}A\\vec x = (A\\vec x)^{T }A\\vec x= ||A\\vec x||^{2} \\ge 0$$\n",
    "$$\\vec x^{T}AA^{T}\\vec x=(A^{T}\\vec x)^{T}A^{T}\\vec x=||A^{T}\\vec x||^{2} \\ge 0$$\n",
    "So both $A^{T}A$ and $AA^{T}$ are symmetric positive semi-definite."
   ]
  },
  {
   "cell_type": "code",
   "execution_count": 6,
   "metadata": {},
   "outputs": [],
   "source": [
    "#TODO 1b) invertibility\n",
    "# mxm invertible, nxn not invertible"
   ]
  },
  {
   "cell_type": "markdown",
   "metadata": {},
   "source": [
    "### c)"
   ]
  },
  {
   "cell_type": "markdown",
   "metadata": {},
   "source": [
    "<img src=\"pictures/Screenshot 2022-09-19 at 11.35.33.png\">"
   ]
  },
  {
   "cell_type": "markdown",
   "metadata": {},
   "source": [
    "$$\\begin{align*}\n",
    "\\mathcal{L}(\\vec x, \\vec \\lambda) &= \\vec x^{T}\\vec x+\\vec \\lambda^T(A\\vec x -\\vec y)\\\\\n",
    "&=\\sum\\limits_{i=1}^{n}\\vec x_{i}^{2} + \\lambda_{i}\\left(\\sum\\limits_{j=1}^{m}a_{ij}x_{j}-y_{i}\\right)\\\\\n",
    "\\frac{\\partial \\mathcal{L}}{\\partial x_{k}}&=2x_{k}+\\lambda_{k}\\sum\\limits_{j=1}^{m}a_{kj}\\\\\n",
    "&=2x_{k}+\\sum\\limits_{j=1}^{m}a_{kj}\\lambda_{k}\\\\\n",
    "\\nabla_{x}\\mathcal{L}&=2\\vec x +A^{T}\\vec \\lambda=0&\\qquad\\text{(1)}\\\\\n",
    "\\frac{\\partial\\mathcal{L}}{\\partial \\lambda_{k}}&=\\sum\\limits_{j=1}^{m}a_{kj}x_{j}-y_{k}\\\\\n",
    "\\nabla_{\\lambda}\\mathcal{L}&=A\\vec x-\\vec y=0 &\\qquad\\text{(2)}\\\\\n",
    "\\vec x&=- \\frac{1}{2}A^{T}\\vec \\lambda\\qquad&\\text{rewriting (1)}\\\\\n",
    " A\\left(- \\frac{1}{2}A^{T}\\vec \\lambda\\right)&=- \\frac{1}{2}AA^{T}\\vec \\lambda=\\vec y&\\text{(1) in (2)}\\quad\\\\\n",
    "\\vec \\lambda&=-2(AA^{T})^{-1}\\vec y\\\\\n",
    "2\\vec x +A^{T}\\vec\\lambda&=2\\vec x-2A^{T}(AA^{T})^{-1}\\vec y=0 &\\text{in (2)}\\\\\n",
    "\\vec x &=A^{T}(AA^{T})^{-1}\\vec y \\qquad\\square\n",
    "\\end{align*}$$"
   ]
  },
  {
   "cell_type": "markdown",
   "metadata": {},
   "source": [
    "### d)"
   ]
  },
  {
   "cell_type": "markdown",
   "metadata": {},
   "source": [
    "<img src=\"pictures/Screenshot 2022-09-19 at 12.43.09.png\">"
   ]
  },
  {
   "cell_type": "markdown",
   "metadata": {},
   "source": [
    "<img src=\"pictures/Screenshot 2022-09-19 at 12.42.42.png\">"
   ]
  },
  {
   "cell_type": "markdown",
   "metadata": {},
   "source": [
    "We know that  $\\vec x_{min}= A^{T}(AA^{T})^{-1}\\vec y$  and $Q^{T}Q=I$ since $Q$ is orthogonal.\n",
    "$$AA^{T}=AQR=(Q^{T}A^{T})^{T}R=(Q^{T}QR)^{T}R=R^TR$$\n",
    "$$\\vec x_{min}=QR(R^{T}R)^{-1}\\vec y=QRR^{-1}R^{T}\\vec y$$\n",
    "$$\\vec x_{min}=QR^{-T}\\vec y$$\n"
   ]
  },
  {
   "cell_type": "code",
   "execution_count": 138,
   "metadata": {},
   "outputs": [],
   "source": [
    "def gramSchidt(A):\n",
    "    n, m = A.shape\n",
    "    Q = np.zeros((n,m))\n",
    "    R = np.zeros((m,m))\n",
    "    for k in range(m):\n",
    "        sum = 0\n",
    "        for j in range(k):\n",
    "            sum += np.dot(A[:,k], Q[:,j]) * Q[:,j]\n",
    "        u = A[:,k] - sum\n",
    "        Q[:,k] = u / np.linalg.norm(u)\n",
    "    # Make R\n",
    "    for i in range(n):\n",
    "        for j in range(i, m):\n",
    "            R[i, j] = np.dot(A[:,j], Q[:,i])\n",
    "    return Q, R"
   ]
  },
  {
   "cell_type": "code",
   "execution_count": 139,
   "metadata": {},
   "outputs": [
    {
     "name": "stdout",
     "output_type": "stream",
     "text": [
      "Q\n",
      " [[ 0.16012815  0.89458644]\n",
      " [ 0.80064077 -0.35445878]\n",
      " [ 0.48038446  0.27006383]\n",
      " [ 0.32025631  0.03375798]]\n",
      "R\n",
      " [[6.244998   5.28422908]\n",
      " [0.         9.1146543 ]]\n",
      "QR\n",
      " [[1. 9.]\n",
      " [5. 1.]\n",
      " [3. 5.]\n",
      " [2. 2.]]\n",
      "--------Numpy.linalg.qr---------\n",
      "Q\n",
      " [[-0.16012815  0.89458644]\n",
      " [-0.80064077 -0.35445878]\n",
      " [-0.48038446  0.27006383]\n",
      " [-0.32025631  0.03375798]]\n",
      "R\n",
      " [[-6.244998   -5.28422908]\n",
      " [ 0.          9.1146543 ]]\n",
      "QR\n",
      " [[1. 9.]\n",
      " [5. 1.]\n",
      " [3. 5.]\n",
      " [2. 2.]]\n"
     ]
    }
   ],
   "source": [
    "A = np.array([[1,5,3,2],\n",
    "            [9,1,5,2]], dtype=float)\n",
    "Q, R = gramSchidt(A.transpose())\n",
    "print(\"Q\\n\", Q)\n",
    "print(\"R\\n\", R)\n",
    "print(\"QR\\n\", np.dot(Q,R))\n",
    "\n",
    "print(\"--------Numpy.linalg.qr---------\")\n",
    "result = np.linalg.qr(A.transpose())\n",
    "print(\"Q\\n\", result[0])\n",
    "print(\"R\\n\", result[1])\n",
    "print(\"QR\\n\", result[0]@result[1])"
   ]
  },
  {
   "cell_type": "markdown",
   "metadata": {},
   "source": [
    "### e)"
   ]
  },
  {
   "cell_type": "markdown",
   "metadata": {},
   "source": [
    "<img src=\"pictures/Screenshot 2022-09-19 at 14.09.50.png\">"
   ]
  },
  {
   "cell_type": "markdown",
   "metadata": {},
   "source": [
    "$$\\begin{align*}\n",
    "\\vec x_{min}&= QR^{-T}\\vec y\\\\\n",
    "\\text{We define}\\\\\n",
    "\\vec u&=R^{-T}\\vec y \\\\\n",
    " \\vec y &=R^{T}\\vec u\\\\\n",
    "\\vec x_{min}&= Q\\vec u \n",
    "\\end{align*}$$\n",
    "So we will use backward subtitution to find $\\vec u$ and forward subtitution to find $\\vec x_{min}$.\n"
   ]
  },
  {
   "cell_type": "code",
   "execution_count": 175,
   "metadata": {},
   "outputs": [
    {
     "name": "stdout",
     "output_type": "stream",
     "text": [
      "[[0.22193732]\n",
      " [0.05042735]\n",
      " [0.13618234]\n",
      " [0.05868946]]\n"
     ]
    }
   ],
   "source": [
    "def findXmin(Q, R, y):\n",
    "    u = linalg.solve_triangular(np.copy(R.transpose()), y)\n",
    "    return np.dot(Q, u)\n",
    "y = np.array([[1],[2]])\n",
    "x = findXmin(Q,R, y)\n",
    "print(x)\n",
    "# TODO test on system in 1a\n",
    "# TODO test on system with exactly one solution"
   ]
  },
  {
   "cell_type": "markdown",
   "metadata": {},
   "source": [
    "### f)\n",
    "#### Compare these methods:"
   ]
  },
  {
   "cell_type": "markdown",
   "metadata": {},
   "source": [
    "<img src=\"pictures/Screenshot 2022-09-19 at 14.16.25.png\">"
   ]
  },
  {
   "cell_type": "code",
   "execution_count": 186,
   "metadata": {},
   "outputs": [
    {
     "name": "stdout",
     "output_type": "stream",
     "text": [
      "(2, 100)\n",
      "(3, 100)\n"
     ]
    }
   ],
   "source": [
    "# Handed out code\n",
    "def generate_Problem(m, n, N = 100):\n",
    "    A = generate_A(m,n)\n",
    "\n",
    "    # Generate solutions X columnwise, X[:,i] to access i-th vector\n",
    "    X = np.random.normal(0.0,1.0,(A.shape[1],N))\n",
    "\n",
    "    # Generate left hand sides Y columnwise Y[:,i] to access lhs\n",
    "    Y = np.dot(A,X)\n",
    "    return X.copy(), Y.copy(), A.copy(), N\n",
    "X, Y, A, N = generate_Problem(3,2)\n",
    "# Doublecheck shapes\n",
    "print(X.shape) # Expect (n,N)\n",
    "print(Y.shape) # Expect (m,N)"
   ]
  },
  {
   "cell_type": "code",
   "execution_count": 187,
   "metadata": {},
   "outputs": [
    {
     "name": "stdout",
     "output_type": "stream",
     "text": [
      "5min 3s ± 18.3 s per loop (mean ± std. dev. of 5 runs, 1 loop each)\n"
     ]
    }
   ],
   "source": [
    "%%timeit -r 5\n",
    "X, Y, A, N = generate_Problem(2048, 8096)\n",
    "Q, R = gramSchidt(A.transpose())\n",
    "X_mins = np.zeros(X.shape)\n",
    "for i in range(N):\n",
    "    X_mins[:,i] = findXmin(Q.copy(), R.copy(), Y[:,i])"
   ]
  },
  {
   "cell_type": "code",
   "execution_count": 188,
   "metadata": {},
   "outputs": [
    {
     "name": "stdout",
     "output_type": "stream",
     "text": [
      "83.13842250202585\n"
     ]
    }
   ],
   "source": [
    "X, Y, A, N = generate_Problem(2048, 8096)\n",
    "Q, R = gramSchidt(A.transpose())\n",
    "X0_min = findXmin(Q.copy(), R.copy(), Y[:,0])\n",
    "print(np.linalg.norm(X[:,0] - X0_min))"
   ]
  },
  {
   "cell_type": "markdown",
   "metadata": {},
   "source": [
    "Let's compare this with numpy's method:"
   ]
  },
  {
   "cell_type": "code",
   "execution_count": 200,
   "metadata": {},
   "outputs": [],
   "source": [
    "def numpyMethod(AAt, y):\n",
    "    z = np.linalg.solve(AAt, y)\n",
    "    return np.dot(A.transpose(), z)"
   ]
  },
  {
   "cell_type": "code",
   "execution_count": 201,
   "metadata": {},
   "outputs": [
    {
     "name": "stdout",
     "output_type": "stream",
     "text": [
      "27.1 s ± 1.54 s per loop (mean ± std. dev. of 5 runs, 1 loop each)\n"
     ]
    }
   ],
   "source": [
    "%%timeit -r 5\n",
    "X, Y, A, N = generate_Problem(2048, 8096)\n",
    "X_mins = np.zeros(X.shape)\n",
    "AAt = np.dot(A, np.transpose(A))\n",
    "\n",
    "for i in range(N):\n",
    "    X_mins[:,i] = numpyMethod(AAt, Y[:,i])"
   ]
  },
  {
   "cell_type": "code",
   "execution_count": 196,
   "metadata": {},
   "outputs": [
    {
     "name": "stdout",
     "output_type": "stream",
     "text": [
      "76.44927657860167\n"
     ]
    }
   ],
   "source": [
    "X, Y, A, N = generate_Problem(2048, 8096)\n",
    "AAt = np.dot(A, np.transpose(A))\n",
    "X0_min = numpyMethod(AAt, Y[:,0])\n",
    "print(np.linalg.norm(X[:,0] - X0_min))\n",
    "#TODO comment on time"
   ]
  },
  {
   "cell_type": "markdown",
   "metadata": {},
   "source": [
    "## Task 2\n",
    "### a)"
   ]
  },
  {
   "cell_type": "markdown",
   "metadata": {},
   "source": [
    "<img src = \"pictures/Screenshot 2022-09-19 at 14.11.38.png\">"
   ]
  },
  {
   "cell_type": "markdown",
   "metadata": {},
   "source": [
    "We have\n",
    "$$T(\\vec x) = ||A\\vec x-\\vec y||^{2} + \\mu||\\vec x||^{2}$$\n",
    "Let's call $\\vec v=A\\vec x-\\vec y$ and introduce the frobernius inner product ( : ).\n",
    "\n",
    "$d\\vec v=Ad\\vec x$ \n",
    "$$\\begin{align*}\n",
    "T(\\vec x) &= ||\\vec v||^{2}+\\mu||x||^{2}\\\\\n",
    "&=(\\vec v:\\vec v) + \\mu\\cdot(\\vec x:\\vec x)\\\\\n",
    "\\nabla_xT(\\vec x)&=(2\\vec v:d\\vec v) +\\mu(2\\vec x:d\\vec x)\\\\\n",
    "&=(2(A\\vec x-\\vec y):Ad\\vec x)+\\mu(2\\vec x:d\\vec x)\\\\\n",
    "&=2A^{T}(A\\vec x-\\vec y)+2\\mu\\vec x\n",
    "\\end{align*}$$\n",
    "For a solution $\\vec x_{r}$:\n",
    "$$\\nabla_{x} T=2A^{T}A\\vec x_{r}-2A^{T}\\vec y+2\\mu\\vec x_{r}=0$$\n",
    "$$(A^{T}A+\\mu I)\\vec x_{r}=A^{T}\\vec y \\qquad\\square$$\n",
    "We saw in 1b) that $A^TA$ is SPD and invertible. \n",
    "$\\mu I$ is diagonal and therefore symmetric and invertible since $\\mu ≠0$.\n",
    "$$\\vec x^{T}\\mu I\\vec x =\\mu ||\\vec x||^{2} \\ge 0 \\qquad \\forall\\quad \\vec x\\in\\mathbb{R^n}$$\n",
    "Since $\\mu>0$ "
   ]
  },
  {
   "cell_type": "markdown",
   "metadata": {},
   "source": [
    "### b)"
   ]
  },
  {
   "cell_type": "markdown",
   "metadata": {},
   "source": [
    "<img src = \"pictures/Screenshot 2022-09-19 at 14.12.21.png\">"
   ]
  },
  {
   "cell_type": "markdown",
   "metadata": {},
   "source": [
    "We have: $A=U\\Sigma V^{T}$ and therefore $A^{T}=V\\Sigma^{T}U^{T}$\n",
    "Where $U\\in\\mathbb{R}^{mxm},V\\in\\mathbb{R}^{nxn}$ are unitary matrices $(U^{-1}=U^{T}, V^{-1}=V^{T})$  and $\\Sigma\\in\\mathbb{R}^{mxn}$ is a rectangular matrix containing only values on the diagonal.\n",
    "\n",
    "From last problem:\n",
    "$$(A^{T}A+\\mu I_{n})\\vec x_{r}=A^{T}\\vec y$$\n",
    "$$(V\\Sigma^{T}U^{T}U\\Sigma V^{T}+\\mu I_{n})\\vec x_{r}=V\\Sigma^T U^{T}$$\n",
    "$$(V\\Sigma^{T}\\Sigma V^{T}+\\mu I_{n})\\vec x_{r}=V\\Sigma^T U^{T}$$\n",
    "$$\\mu I_{n}=\\mu VV^{T}=V \\mu V^{T}=V \\mu I_{n} V^{T}$$\n",
    "since multiplying a scalar with a matrix is commutative. Putting this back in the original expression:\n",
    "$$V(\\Sigma^{T}\\Sigma+\\mu I_{n})V^{T}\\vec x_{r}= V\\Sigma^T U^{T} \\vec y$$\n",
    "$$\\begin{align*}\n",
    "\\vec x_{r}&=(V(\\Sigma^{T}\\Sigma+\\mu I_{n}) V^{T})^{-1}V\\Sigma^T U^{T}\\vec y\\\\\n",
    "&=(V^{T})^{-1}(\\Sigma^{T}\\Sigma+\\mu I_{n})^{-1}V^{-1}V\\Sigma^T U^{T}\\vec y\\\\\n",
    "&=V(\\Sigma^{T}\\Sigma+\\mu I_{n})^{-1}\\Sigma^T U^{T}\\vec y\\\\\n",
    "\\vec x_{r}&=VDU^{T}\\vec y \n",
    "\\end{align*}$$\n",
    "Where\n",
    "$$D=(\\Sigma^{T}\\Sigma+\\mu I_{n})^{-1}\\Sigma^T$$ \n",
    "\n",
    " Let's compute this, using $\\Sigma=diag(\\sigma_{1},\\dots,\\sigma_{m})\\in\\mathbb{R}^{mxn}$ :\n",
    "$$\\begin{align*}\n",
    "\\Sigma^{T}\\Sigma&=diag(\\sigma_{1}^2,\\dots \\sigma_{m}^2,0,\\dots 0)\\in\\mathbb{R}^{nxn}\\\\\n",
    "\\mu I_{n}&=diag(\\mu,\\dots,\\mu)\\in\\mathbb{R}^{nxn}\\\\\n",
    "\\Sigma^{T}\\Sigma+\\mu I_{n}&=diag(\\mu+ \\sigma_{1}^2,\\dots,\\mu+\\sigma_{m}^2,\\mu,\\dots,\\mu)\\in\\mathbb{R}^{nxn}\\\\\n",
    "(\\Sigma^{T}\\Sigma+\\mu I_{n})^{-1}&=diag\\left( \\frac{1}{\\mu+\\sigma_{1}^2},\\dots, \\frac{1}{\\mu+\\sigma_{m}^2}, \\frac{1}{\\mu},\\dots, \\frac{1}{\\mu}\\right)\\in\\mathbb{R}^{nxn}\\\\\n",
    "(\\Sigma^{T}\\Sigma+\\mu I_{n})^{-1}\\Sigma^{T}&=diag\\left( \\frac{\\sigma_{1}}{\\mu+\\sigma_{1}^2} , \\dots, \\frac{\\sigma_{m}}{\\mu+\\sigma_{m}^2}\\right)\\in\\mathbb{R}^{nxm}\n",
    "\\end{align*}$$\n"
   ]
  },
  {
   "cell_type": "markdown",
   "metadata": {},
   "source": [
    "### c)"
   ]
  },
  {
   "cell_type": "markdown",
   "metadata": {},
   "source": [
    "<img src = \"pictures/Screenshot 2022-09-19 at 14.12.43.png\">"
   ]
  },
  {
   "cell_type": "code",
   "execution_count": 333,
   "metadata": {},
   "outputs": [
    {
     "name": "stdout",
     "output_type": "stream",
     "text": [
      "[ 1.1394426   0.44462076 -0.43476703  0.24090175]\n",
      "[ 1.15891427  0.67535011  0.28003686 -0.3876065 ]\n",
      "\n",
      " 4.5317081308524365\n",
      "\n",
      " 2.027839503377799\n"
     ]
    }
   ],
   "source": [
    "def Tikhonov_solveSVD(U, S, Vt, mu, y):\n",
    "    m, n = U.shape[0], Vt.shape[0]\n",
    "    D = S / (mu + S**2)\n",
    "    U_new = U.T*D.T\n",
    "    DUt = np.concatenate((U_new, np.zeros((n-m, m))))\n",
    "    return np.dot(np.dot(Vt.T, DUt), y)#Vt.T@DUt@y\n",
    "    #np.dot(np.dot(Vt.T, DUt), y)\n",
    "\n",
    "\n",
    "\n",
    "X, Y, A, N = generate_Problem(3, 4)\n",
    "U, S, Vt = np.linalg.svd(A, full_matrices=False)\n",
    "mu = 1\n",
    "\n",
    "#S = np.array([[1,2,3]])\n",
    "#U = np.array([[1,1,1],\n",
    "#[2,2,2],\n",
    "#[3,3,3]])\n",
    "#print(\"A\\n\", A)\n",
    "#print(\"U\\n\", U)\n",
    "#print(\"S\\n\", S)\n",
    "#print(\"Vt\\n\", Vt)\n",
    "x_sol = Tikhonov_solveSVD(U,S,Vt, mu, Y[:,0])\n",
    "print(x_sol)\n",
    "print(X[:,0])\n",
    "\n",
    "print(\"\\n\", np.linalg.norm(A@x_sol - Y[:,0])**2 + mu * np.linalg.norm(x_sol)**2)\n",
    "print(\"\\n\", np.linalg.norm(A@X[:,0] - Y[:,0])**2 + mu * np.linalg.norm(X[:,0])**2)\n"
   ]
  },
  {
   "cell_type": "markdown",
   "metadata": {},
   "source": [
    "### d)\n",
    "#### 1)"
   ]
  },
  {
   "cell_type": "markdown",
   "metadata": {},
   "source": [
    "<img src = \"pictures/Screenshot 2022-09-19 at 14.13.15.png\">"
   ]
  },
  {
   "cell_type": "code",
   "execution_count": 337,
   "metadata": {},
   "outputs": [],
   "source": [
    "X, Y, A, N = generate_Problem(m = 10, n= 20, N = 1)\n",
    "x_true = X[:,0]\n",
    "U, S, Vt = np.linalg.svd(A, full_matrices=False)\n",
    "num = 100\n",
    "mu = np.logspace(5, -6, num = num)\n",
    "error = np.zeros(num)\n",
    "for i in range(num):\n",
    "    x_r = Tikhonov_solveSVD(U,S,Vt, mu[i], Y[:,0])\n",
    "    error[i] = np.linalg.norm(x_true - x_r)"
   ]
  },
  {
   "cell_type": "markdown",
   "metadata": {},
   "source": [
    "#### 2)"
   ]
  },
  {
   "cell_type": "markdown",
   "metadata": {},
   "source": [
    "<img src=\"pictures/Screenshot 2022-09-19 at 14.13.45.png\">"
   ]
  },
  {
   "cell_type": "markdown",
   "metadata": {},
   "source": [
    "## Task 3\n",
    "### a)"
   ]
  },
  {
   "cell_type": "markdown",
   "metadata": {},
   "source": [
    "<img src=\"pictures/Screenshot 2022-09-19 at 14.14.39.png\">"
   ]
  },
  {
   "cell_type": "markdown",
   "metadata": {},
   "source": [
    "### b)\n",
    "#### 1)"
   ]
  },
  {
   "cell_type": "markdown",
   "metadata": {},
   "source": [
    "#### 2)"
   ]
  },
  {
   "cell_type": "markdown",
   "metadata": {},
   "source": [
    "#### 3)"
   ]
  },
  {
   "cell_type": "markdown",
   "metadata": {},
   "source": [
    "### c)\n",
    "#### 1)"
   ]
  },
  {
   "cell_type": "markdown",
   "metadata": {},
   "source": [
    "#### 2)"
   ]
  },
  {
   "cell_type": "markdown",
   "metadata": {},
   "source": [
    "#### 3)"
   ]
  },
  {
   "cell_type": "markdown",
   "metadata": {},
   "source": [
    "### d)"
   ]
  },
  {
   "cell_type": "markdown",
   "metadata": {},
   "source": []
  }
 ],
 "metadata": {
  "kernelspec": {
   "display_name": "Python 3.8.3 ('base')",
   "language": "python",
   "name": "python3"
  },
  "language_info": {
   "codemirror_mode": {
    "name": "ipython",
    "version": 3
   },
   "file_extension": ".py",
   "mimetype": "text/x-python",
   "name": "python",
   "nbconvert_exporter": "python",
   "pygments_lexer": "ipython3",
   "version": "3.8.3"
  },
  "orig_nbformat": 4,
  "vscode": {
   "interpreter": {
    "hash": "6c316e93d24558c110aa6e5084d987425c692a1c5fe270bdb5157dd4452fa664"
   }
  }
 },
 "nbformat": 4,
 "nbformat_minor": 2
}
