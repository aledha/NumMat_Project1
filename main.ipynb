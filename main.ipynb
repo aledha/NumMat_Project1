{
 "cells": [
  {
   "cell_type": "markdown",
   "metadata": {},
   "source": [
    "# Project 1\n",
    "By Alexander Hatle"
   ]
  },
  {
   "cell_type": "code",
   "execution_count": 1,
   "metadata": {},
   "outputs": [],
   "source": [
    "import numpy as np\n",
    "import time\n",
    "np.random.seed(40)\n",
    "#<img src=\"\">"
   ]
  },
  {
   "cell_type": "markdown",
   "metadata": {},
   "source": [
    "## Task 1\n",
    "### a)"
   ]
  },
  {
   "cell_type": "markdown",
   "metadata": {},
   "source": [
    "<img src=\"pictures/Screenshot 2022-09-19 at 11.07.35.png\">"
   ]
  },
  {
   "cell_type": "markdown",
   "metadata": {},
   "source": [
    "$$A = \\begin{pmatrix}0 & 0 & 0 \\\\ 0 & 0 & 0\\end{pmatrix} \\quad \\text{and} \\quad \\vec y = \\begin{pmatrix}1  \\\\  1\\end{pmatrix}$$"
   ]
  },
  {
   "cell_type": "markdown",
   "metadata": {},
   "source": [
    "<img src=\"pictures/Screenshot 2022-09-19 at 11.12.01.png\">"
   ]
  },
  {
   "cell_type": "markdown",
   "metadata": {},
   "source": [
    "$$A = \\begin{pmatrix}0 & 0 & 0 \\\\ 0 & 0 & 0\\end{pmatrix} \\quad \\text{and} \\quad \\vec y = \\begin{pmatrix}0  \\\\  0\\end{pmatrix}$$"
   ]
  },
  {
   "cell_type": "markdown",
   "metadata": {},
   "source": [
    "### b)"
   ]
  },
  {
   "cell_type": "markdown",
   "metadata": {},
   "source": [
    "<img src=\"pictures/Screenshot 2022-09-19 at 11.14.49.png\">"
   ]
  },
  {
   "cell_type": "markdown",
   "metadata": {},
   "source": [
    "We know that a matrix A is symmetric if $A^T=A$ \n",
    "$$(A^{T}A)^{T}=A^{T}(A^{T})^{T} = A^{T}A \\Rightarrow \\text{Symmetric}$$\n",
    "$$(AA^{T})^{T}=(A^{T})^{T} A^{T}= AA^{T} \\Rightarrow \\text{Symmetric}$$\n",
    "A matrix is positive semi-definite if it satisfies\n",
    "$$\\vec x^{T}A\\vec x \\ge 0, \\qquad \\text{for all } x\\in \\mathbb{R}^{n}$$\n",
    "$$\\vec x^{T}A^{T}A\\vec x = (A\\vec x)^{T }A\\vec x= ||A\\vec x||^{2} \\ge 0$$\n",
    "$$\\vec x^{T}AA^{T}\\vec x=(A^{T}\\vec x)^{T}A^{T}\\vec x=||A^{T}\\vec x||^{2} \\ge 0$$\n",
    "So both $A^{T}A$ and $AA^{T}$ are symmetric positive semi-definite."
   ]
  },
  {
   "cell_type": "code",
   "execution_count": 6,
   "metadata": {},
   "outputs": [],
   "source": [
    "#TODO 1b) invertibility\n",
    "# mxm invertible, nxn not invertible"
   ]
  },
  {
   "cell_type": "markdown",
   "metadata": {},
   "source": [
    "### c)"
   ]
  },
  {
   "cell_type": "markdown",
   "metadata": {},
   "source": [
    "<img src=\"pictures/Screenshot 2022-09-19 at 11.35.33.png\">"
   ]
  },
  {
   "cell_type": "markdown",
   "metadata": {},
   "source": [
    "$$\\begin{align*}\n",
    "\\mathcal{L}(\\vec x, \\vec \\lambda) &= \\vec x^{T}\\vec x+\\vec \\lambda(A\\vec x -\\vec y)\\\\\n",
    "&=\\sum\\limits_{i=1}^{n}\\vec x_{i}^{2} + \\lambda_{i}\\left(\\sum\\limits_{j=1}^{m}a_{ij}x_{j}-y_{i}\\right)\\\\\n",
    "\\frac{\\partial \\mathcal{L}}{\\partial x_{k}}&=2x_{k}+\\lambda_{k}\\sum\\limits_{j=1}^{m}a_{kj}\\\\\n",
    "&=2x_{k}+\\sum\\limits_{j=1}^{m}a_{kj}\\lambda_{k}\\\\\n",
    "\\nabla_{x}\\mathcal{L}&=2\\vec x +A^{T}\\vec \\lambda=0&\\qquad\\text{(1)}\\\\\n",
    "\\frac{\\partial\\mathcal{L}}{\\partial \\lambda_{k}}&=\\sum\\limits_{j=1}^{m}a_{kj}x_{j}-y_{k}\\\\\n",
    "\\nabla_{\\lambda}\\mathcal{L}&=A\\vec x-\\vec y=0 &\\qquad\\text{(2)}\\\\\n",
    "\\vec x&=- \\frac{1}{2}A^{T}\\vec \\lambda\\qquad&\\text{rewriting (1)}\\\\\n",
    " A\\left(- \\frac{1}{2}A^{T}\\vec \\lambda\\right)&=- \\frac{1}{2}AA^{T}\\vec \\lambda=\\vec y&\\text{(1) in (2)}\\quad\\\\\n",
    "\\vec \\lambda&=-2(AA^{T})^{-1}\\vec y\\\\\n",
    "2\\vec x +A^{T}\\vec\\lambda&=2\\vec x-2A^{T}(AA^{T})^{-1}\\vec y=0 &\\text{in (2)}\\\\\n",
    "\\vec x &=A^{T}(AA^{T})^{-1}\\vec y \\qquad\\square\n",
    "\\end{align*}$$"
   ]
  },
  {
   "cell_type": "markdown",
   "metadata": {},
   "source": [
    "### d)"
   ]
  },
  {
   "cell_type": "markdown",
   "metadata": {},
   "source": [
    "### e)"
   ]
  },
  {
   "cell_type": "markdown",
   "metadata": {},
   "source": [
    "### f)\n",
    "#### 1)"
   ]
  },
  {
   "cell_type": "markdown",
   "metadata": {},
   "source": [
    "#### 2)"
   ]
  },
  {
   "cell_type": "markdown",
   "metadata": {},
   "source": [
    "## Task 2\n",
    "### a)"
   ]
  },
  {
   "cell_type": "markdown",
   "metadata": {},
   "source": [
    "### b)"
   ]
  },
  {
   "cell_type": "markdown",
   "metadata": {},
   "source": [
    "### c)"
   ]
  },
  {
   "cell_type": "markdown",
   "metadata": {},
   "source": [
    "### d)\n",
    "#### 1)"
   ]
  },
  {
   "cell_type": "markdown",
   "metadata": {},
   "source": [
    "### 2)"
   ]
  },
  {
   "cell_type": "markdown",
   "metadata": {},
   "source": [
    "## Task 3\n",
    "### a)"
   ]
  },
  {
   "cell_type": "markdown",
   "metadata": {},
   "source": [
    "### b)\n",
    "#### 1)"
   ]
  },
  {
   "cell_type": "markdown",
   "metadata": {},
   "source": [
    "#### 2)"
   ]
  },
  {
   "cell_type": "markdown",
   "metadata": {},
   "source": [
    "#### 3)"
   ]
  },
  {
   "cell_type": "markdown",
   "metadata": {},
   "source": [
    "### c)\n",
    "#### 1)"
   ]
  },
  {
   "cell_type": "markdown",
   "metadata": {},
   "source": [
    "#### 2)"
   ]
  },
  {
   "cell_type": "markdown",
   "metadata": {},
   "source": [
    "#### 3)"
   ]
  },
  {
   "cell_type": "markdown",
   "metadata": {},
   "source": [
    "### d)"
   ]
  },
  {
   "cell_type": "markdown",
   "metadata": {},
   "source": []
  }
 ],
 "metadata": {
  "kernelspec": {
   "display_name": "Python 3.8.3 ('base')",
   "language": "python",
   "name": "python3"
  },
  "language_info": {
   "codemirror_mode": {
    "name": "ipython",
    "version": 3
   },
   "file_extension": ".py",
   "mimetype": "text/x-python",
   "name": "python",
   "nbconvert_exporter": "python",
   "pygments_lexer": "ipython3",
   "version": "3.8.3"
  },
  "orig_nbformat": 4,
  "vscode": {
   "interpreter": {
    "hash": "6c316e93d24558c110aa6e5084d987425c692a1c5fe270bdb5157dd4452fa664"
   }
  }
 },
 "nbformat": 4,
 "nbformat_minor": 2
}
