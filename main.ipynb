{
 "cells": [
  {
   "cell_type": "markdown",
   "metadata": {},
   "source": [
    "# Project 1\n",
    "By Alexander Hatle"
   ]
  },
  {
   "cell_type": "code",
   "execution_count": 140,
   "metadata": {},
   "outputs": [],
   "source": [
    "import numpy as np\n",
    "import scipy\n",
    "np.random.seed(40)\n",
    "#<img src=\"\">"
   ]
  },
  {
   "cell_type": "markdown",
   "metadata": {},
   "source": [
    "## Task 1\n",
    "### a)"
   ]
  },
  {
   "cell_type": "markdown",
   "metadata": {},
   "source": [
    "<img src=\"pictures/Screenshot 2022-09-19 at 11.07.35.png\">"
   ]
  },
  {
   "cell_type": "markdown",
   "metadata": {},
   "source": [
    "$$A = \\begin{pmatrix}0 & 0 & 0 \\\\ 0 & 0 & 0\\end{pmatrix} \\quad \\text{and} \\quad \\vec y = \\begin{pmatrix}1  \\\\  1\\end{pmatrix}$$"
   ]
  },
  {
   "cell_type": "markdown",
   "metadata": {},
   "source": [
    "<img src=\"pictures/Screenshot 2022-09-19 at 11.12.01.png\">"
   ]
  },
  {
   "cell_type": "markdown",
   "metadata": {},
   "source": [
    "$$A = \\begin{pmatrix}0 & 0 & 0 \\\\ 0 & 0 & 0\\end{pmatrix} \\quad \\text{and} \\quad \\vec y = \\begin{pmatrix}0  \\\\  0\\end{pmatrix}$$"
   ]
  },
  {
   "cell_type": "markdown",
   "metadata": {},
   "source": [
    "### b)"
   ]
  },
  {
   "cell_type": "markdown",
   "metadata": {},
   "source": [
    "<img src=\"pictures/Screenshot 2022-09-19 at 11.14.49.png\">"
   ]
  },
  {
   "cell_type": "markdown",
   "metadata": {},
   "source": [
    "We know that a matrix A is symmetric if $A^T=A$ \n",
    "$$(A^{T}A)^{T}=A^{T}(A^{T})^{T} = A^{T}A \\Rightarrow \\text{Symmetric}$$\n",
    "$$(AA^{T})^{T}=(A^{T})^{T} A^{T}= AA^{T} \\Rightarrow \\text{Symmetric}$$\n",
    "A matrix is positive semi-definite if it satisfies\n",
    "$$\\vec x^{T}A\\vec x \\ge 0, \\qquad \\text{for all } x\\in \\mathbb{R}^{n}$$\n",
    "$$\\vec x^{T}A^{T}A\\vec x = (A\\vec x)^{T }A\\vec x= ||A\\vec x||^{2} \\ge 0$$\n",
    "$$\\vec x^{T}AA^{T}\\vec x=(A^{T}\\vec x)^{T}A^{T}\\vec x=||A^{T}\\vec x||^{2} \\ge 0$$\n",
    "So both $A^{T}A$ and $AA^{T}$ are symmetric positive semi-definite."
   ]
  },
  {
   "cell_type": "code",
   "execution_count": 6,
   "metadata": {},
   "outputs": [],
   "source": [
    "#TODO 1b) invertibility\n",
    "# mxm invertible, nxn not invertible"
   ]
  },
  {
   "cell_type": "markdown",
   "metadata": {},
   "source": [
    "### c)"
   ]
  },
  {
   "cell_type": "markdown",
   "metadata": {},
   "source": [
    "<img src=\"pictures/Screenshot 2022-09-19 at 11.35.33.png\">"
   ]
  },
  {
   "cell_type": "markdown",
   "metadata": {},
   "source": [
    "$$\\begin{align*}\n",
    "\\mathcal{L}(\\vec x, \\vec \\lambda) &= \\vec x^{T}\\vec x+\\vec \\lambda(A\\vec x -\\vec y)\\\\\n",
    "&=\\sum\\limits_{i=1}^{n}\\vec x_{i}^{2} + \\lambda_{i}\\left(\\sum\\limits_{j=1}^{m}a_{ij}x_{j}-y_{i}\\right)\\\\\n",
    "\\frac{\\partial \\mathcal{L}}{\\partial x_{k}}&=2x_{k}+\\lambda_{k}\\sum\\limits_{j=1}^{m}a_{kj}\\\\\n",
    "&=2x_{k}+\\sum\\limits_{j=1}^{m}a_{kj}\\lambda_{k}\\\\\n",
    "\\nabla_{x}\\mathcal{L}&=2\\vec x +A^{T}\\vec \\lambda=0&\\qquad\\text{(1)}\\\\\n",
    "\\frac{\\partial\\mathcal{L}}{\\partial \\lambda_{k}}&=\\sum\\limits_{j=1}^{m}a_{kj}x_{j}-y_{k}\\\\\n",
    "\\nabla_{\\lambda}\\mathcal{L}&=A\\vec x-\\vec y=0 &\\qquad\\text{(2)}\\\\\n",
    "\\vec x&=- \\frac{1}{2}A^{T}\\vec \\lambda\\qquad&\\text{rewriting (1)}\\\\\n",
    " A\\left(- \\frac{1}{2}A^{T}\\vec \\lambda\\right)&=- \\frac{1}{2}AA^{T}\\vec \\lambda=\\vec y&\\text{(1) in (2)}\\quad\\\\\n",
    "\\vec \\lambda&=-2(AA^{T})^{-1}\\vec y\\\\\n",
    "2\\vec x +A^{T}\\vec\\lambda&=2\\vec x-2A^{T}(AA^{T})^{-1}\\vec y=0 &\\text{in (2)}\\\\\n",
    "\\vec x &=A^{T}(AA^{T})^{-1}\\vec y \\qquad\\square\n",
    "\\end{align*}$$"
   ]
  },
  {
   "cell_type": "markdown",
   "metadata": {},
   "source": [
    "### d)"
   ]
  },
  {
   "cell_type": "markdown",
   "metadata": {},
   "source": [
    "<img src=\"pictures/Screenshot 2022-09-19 at 12.43.09.png\">"
   ]
  },
  {
   "cell_type": "markdown",
   "metadata": {},
   "source": [
    "<img src=\"pictures/Screenshot 2022-09-19 at 12.42.42.png\">"
   ]
  },
  {
   "cell_type": "markdown",
   "metadata": {},
   "source": [
    "We know that  $\\vec x_{min}= A^{T}(AA^{T})^{-1}\\vec y$  and $Q^{T}Q=I$ since $Q$ is orthogonal.\n",
    "$$AA^{T}=AQR=(Q^{T}A^{T})^{T}R=(Q^{T}QR)^{T}R=R^TR$$\n",
    "$$\\vec x_{min}=QR(R^{T}R)^{-1}\\vec y=QRR^{-1}R^{T}\\vec y$$\n",
    "$$\\vec x_{min}=QR^{-T}\\vec y$$\n"
   ]
  },
  {
   "cell_type": "code",
   "execution_count": 138,
   "metadata": {},
   "outputs": [],
   "source": [
    "def gramSchidt(A):\n",
    "    n, m = A.shape\n",
    "    Q = np.zeros((n,m))\n",
    "    R = np.zeros((m,m))\n",
    "    for k in range(m):\n",
    "        sum = 0\n",
    "        for j in range(k):\n",
    "            sum += np.dot(A[:,k], Q[:,j]) * Q[:,j]\n",
    "        u = A[:,k] - sum\n",
    "        Q[:,k] = u / np.linalg.norm(u)\n",
    "    # Make R\n",
    "    for i in range(n):\n",
    "        for j in range(i, m):\n",
    "            R[i, j] = np.dot(A[:,j], Q[:,i])\n",
    "    return Q, R"
   ]
  },
  {
   "cell_type": "code",
   "execution_count": 139,
   "metadata": {},
   "outputs": [
    {
     "name": "stdout",
     "output_type": "stream",
     "text": [
      "Q\n",
      " [[ 0.16012815  0.89458644]\n",
      " [ 0.80064077 -0.35445878]\n",
      " [ 0.48038446  0.27006383]\n",
      " [ 0.32025631  0.03375798]]\n",
      "R\n",
      " [[6.244998   5.28422908]\n",
      " [0.         9.1146543 ]]\n",
      "QR\n",
      " [[1. 9.]\n",
      " [5. 1.]\n",
      " [3. 5.]\n",
      " [2. 2.]]\n",
      "--------Numpy.linalg.qr---------\n",
      "Q\n",
      " [[-0.16012815  0.89458644]\n",
      " [-0.80064077 -0.35445878]\n",
      " [-0.48038446  0.27006383]\n",
      " [-0.32025631  0.03375798]]\n",
      "R\n",
      " [[-6.244998   -5.28422908]\n",
      " [ 0.          9.1146543 ]]\n",
      "QR\n",
      " [[1. 9.]\n",
      " [5. 1.]\n",
      " [3. 5.]\n",
      " [2. 2.]]\n"
     ]
    }
   ],
   "source": [
    "A = np.array([[1,5,3,2],\n",
    "            [9,1,5,2]], dtype=float)\n",
    "Q, R = gramSchidt(A.transpose())\n",
    "print(\"Q\\n\", Q)\n",
    "print(\"R\\n\", R)\n",
    "print(\"QR\\n\", np.dot(Q,R))\n",
    "\n",
    "print(\"--------Numpy.linalg.qr---------\")\n",
    "result = np.linalg.qr(A.transpose())\n",
    "print(\"Q\\n\", result[0])\n",
    "print(\"R\\n\", result[1])\n",
    "print(\"QR\\n\", result[0]@result[1])"
   ]
  },
  {
   "cell_type": "markdown",
   "metadata": {},
   "source": [
    "### e)"
   ]
  },
  {
   "cell_type": "markdown",
   "metadata": {},
   "source": [
    "<img src=\"pictures/Screenshot 2022-09-19 at 14.09.50.png\">"
   ]
  },
  {
   "cell_type": "markdown",
   "metadata": {},
   "source": [
    "$$\\begin{align*}\n",
    "\\vec x_{min}&= QR^{-T}\\vec y\\\\\n",
    "\\text{We define}\\\\\n",
    "\\vec u&=R^{-T}\\vec y \\\\\n",
    " \\vec y &=R^{T}\\vec u\\\\\n",
    "\\vec x_{min}&= Q\\vec u \n",
    "\\end{align*}$$\n",
    "So we will use backward subtitution to find $\\vec u$ and forward subtitution to find $\\vec x_{min}$.\n"
   ]
  },
  {
   "cell_type": "code",
   "execution_count": null,
   "metadata": {},
   "outputs": [],
   "source": [
    "def backwardAndForward(Q, R, y):\n",
    "    u = scipy.linalg.solve_triangular(R.transpose(), y)"
   ]
  },
  {
   "cell_type": "markdown",
   "metadata": {},
   "source": [
    "### f)\n",
    "#### Compare these methods:"
   ]
  },
  {
   "cell_type": "markdown",
   "metadata": {},
   "source": [
    "<img src=\"pictures/Screenshot 2022-09-19 at 14.16.25.png\">"
   ]
  },
  {
   "cell_type": "markdown",
   "metadata": {},
   "source": [
    "## Task 2\n",
    "### a)"
   ]
  },
  {
   "cell_type": "markdown",
   "metadata": {},
   "source": [
    "<img src = \"pictures/Screenshot 2022-09-19 at 14.11.38.png\">"
   ]
  },
  {
   "cell_type": "markdown",
   "metadata": {},
   "source": [
    "### b)"
   ]
  },
  {
   "cell_type": "markdown",
   "metadata": {},
   "source": [
    "<img src = \"pictures/Screenshot 2022-09-19 at 14.12.21.png\">"
   ]
  },
  {
   "cell_type": "markdown",
   "metadata": {},
   "source": [
    "### c)"
   ]
  },
  {
   "cell_type": "markdown",
   "metadata": {},
   "source": [
    "<img src = \"pictures/Screenshot 2022-09-19 at 14.12.43.png\">"
   ]
  },
  {
   "cell_type": "markdown",
   "metadata": {},
   "source": [
    "### d)\n",
    "#### 1)"
   ]
  },
  {
   "cell_type": "markdown",
   "metadata": {},
   "source": [
    "<img src = \"pictures/Screenshot 2022-09-19 at 14.13.15.png\">"
   ]
  },
  {
   "cell_type": "markdown",
   "metadata": {},
   "source": [
    "### 2)"
   ]
  },
  {
   "cell_type": "markdown",
   "metadata": {},
   "source": [
    "<img src=\"pictures/Screenshot 2022-09-19 at 14.13.45.png\">"
   ]
  },
  {
   "cell_type": "markdown",
   "metadata": {},
   "source": [
    "## Task 3\n",
    "### a)"
   ]
  },
  {
   "cell_type": "markdown",
   "metadata": {},
   "source": [
    "<img src=\"pictures/Screenshot 2022-09-19 at 14.14.39.png\">"
   ]
  },
  {
   "cell_type": "markdown",
   "metadata": {},
   "source": [
    "### b)\n",
    "#### 1)"
   ]
  },
  {
   "cell_type": "markdown",
   "metadata": {},
   "source": [
    "#### 2)"
   ]
  },
  {
   "cell_type": "markdown",
   "metadata": {},
   "source": [
    "#### 3)"
   ]
  },
  {
   "cell_type": "markdown",
   "metadata": {},
   "source": [
    "### c)\n",
    "#### 1)"
   ]
  },
  {
   "cell_type": "markdown",
   "metadata": {},
   "source": [
    "#### 2)"
   ]
  },
  {
   "cell_type": "markdown",
   "metadata": {},
   "source": [
    "#### 3)"
   ]
  },
  {
   "cell_type": "markdown",
   "metadata": {},
   "source": [
    "### d)"
   ]
  },
  {
   "cell_type": "markdown",
   "metadata": {},
   "source": []
  }
 ],
 "metadata": {
  "kernelspec": {
   "display_name": "Python 3.8.3 ('base')",
   "language": "python",
   "name": "python3"
  },
  "language_info": {
   "codemirror_mode": {
    "name": "ipython",
    "version": 3
   },
   "file_extension": ".py",
   "mimetype": "text/x-python",
   "name": "python",
   "nbconvert_exporter": "python",
   "pygments_lexer": "ipython3",
   "version": "3.8.3"
  },
  "orig_nbformat": 4,
  "vscode": {
   "interpreter": {
    "hash": "6c316e93d24558c110aa6e5084d987425c692a1c5fe270bdb5157dd4452fa664"
   }
  }
 },
 "nbformat": 4,
 "nbformat_minor": 2
}
