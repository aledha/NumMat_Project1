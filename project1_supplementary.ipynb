{
 "cells": [
  {
   "cell_type": "code",
   "execution_count": 1,
   "metadata": {},
   "outputs": [],
   "source": [
    "import numpy as np\n",
    "import scipy as sp\n",
    "from scipy import linalg\n",
    "import matplotlib.pyplot as plt\n"
   ]
  },
  {
   "cell_type": "markdown",
   "metadata": {},
   "source": [
    "This notebook will help you get started with project 1. You do not have too use any of this code in your answers and you can change the code however you want, but if you include any code used here in your answers refer to it as \"handed out code\".\n",
    "\n",
    "The below code generates a full rank $m \\times n$ matrix $A$ that has correlated columns. This can be useful for simulating linear regression datasets. You can pretend that the code generates $m$ datapoints with $n$ covariates, and you want to do linear regression on this dataset. How we generate this matrix is not of interest in this project.\n",
    "\n",
    "What is of interest is the values you choose for $m$ and $n$. In this notebook we select $m = 2048$ and $n = 8096$, which is not too large, but can still make the numerical algorithms slow on some older computers. Storing this matrix requires about $128$ megabytes of RAM, which is not a lot on modern computers, but you can take some time to appreciate that this would not have been possible on computers $20-30$ years ago. For this project you can try some different values for $m$ and $n$, but for small systems you don't really have to use anything other than ```np.linalg.solve``` (which is more or less a really optimized LU factorization) or ```np.linalg.inv``` to solve your problems. It is only for large problems that numerical linear algebra really becomes interesting, and we have to apply some methods that we will apply in this project."
   ]
  },
  {
   "cell_type": "code",
   "execution_count": 11,
   "metadata": {},
   "outputs": [],
   "source": [
    "# Generate matrix A \\in \\mathbb{R}^{m \\times n}\n",
    "\n",
    "def generate_A(m,n):\n",
    "    \"\"\"\n",
    "    Generates m times n with correlated columns.\n",
    "    Input:\n",
    "        m: int, first dimension of A\n",
    "        n: int, second dimension of A\n",
    "    output:\n",
    "        A: (m,n) array\n",
    "    \"\"\"\n",
    "\n",
    "    cov_eigvecs = np.random.uniform(-1.0,1.0,(n,n))\n",
    "    cov = cov_eigvecs.T @ cov_eigvecs\n",
    "    v = np.sqrt(np.diag(cov))\n",
    "    outer_v = np.outer(v, v)\n",
    "    corr = cov / outer_v\n",
    "    corr[cov == 0] = 0\n",
    "    chol = sp.linalg.cholesky(corr, lower=True) \n",
    "    A = np.random.normal(0, 1.0,(m,n))\n",
    "    A = np.dot(A,chol.T)\n",
    "    return A\n",
    "\n",
    "m = 2048\n",
    "n = 8096\n",
    "A = generate_A(m,n)"
   ]
  },
  {
   "cell_type": "markdown",
   "metadata": {},
   "source": [
    "Task 1\n",
    "---\n",
    "\n",
    "Below code generates $\\mathbf{x}$ and $\\mathbf{y}$ for linear systems, which you will need in the final subtask of Task 1."
   ]
  },
  {
   "cell_type": "code",
   "execution_count": 13,
   "metadata": {},
   "outputs": [
    {
     "name": "stdout",
     "output_type": "stream",
     "text": [
      "(8096, 100)\n",
      "(2048, 100)\n"
     ]
    }
   ],
   "source": [
    "N = 100 # Number of test data we want to generate\n",
    "\n",
    "# Generate solutions X columnwise, X[:,i] to access i-th vector\n",
    "X = np.random.normal(0.0,1.0,(A.shape[1],N))\n",
    "\n",
    "# Generate left hand sides Y columnwise Y[:,i] to access lhs\n",
    "Y = np.dot(A,X)\n",
    "\n",
    "# Doublecheck shapes\n",
    "print(X.shape) # Expect (n,N)\n",
    "print(Y.shape) # Expect (m,N)"
   ]
  },
  {
   "cell_type": "markdown",
   "metadata": {},
   "source": [
    "In Jupyter notebooks you can use ```%timeit``` to time a line of code or ```%%timeit``` to time a chunk of code.\n",
    "I find the latter easier to use. These functions usually runs the code many times and provide. You can select the number of times you want to run the code using the ```-r``` option. In the chunks below, we run the code $5$ times in order to got a standard deviation of our runtime. Jupyter notebooks also time how long it takes to run a chunk, but this timing is a lot more unreliable, so do not use this for reporting timing results. Make sure that when you time your code you do as little else as possible on your computer, that is: close all irrelevant programs and make sure to not minimize the window where the code is run as this might lower the priority of running the code on your computer.\n",
    "\n",
    "Let us time the difference between calculating $A^TA$ and $AA^T$ for our given matrix. We expect the latter operation to be faster given our \"wide\" matrix."
   ]
  },
  {
   "cell_type": "code",
   "execution_count": 15,
   "metadata": {},
   "outputs": [
    {
     "name": "stdout",
     "output_type": "stream",
     "text": [
      "1.56 s ± 85.6 ms per loop (mean ± std. dev. of 5 runs, 1 loop each)\n"
     ]
    }
   ],
   "source": [
    "%%timeit -r 5\n",
    "ATA = np.dot(A.T,A)"
   ]
  },
  {
   "cell_type": "code",
   "execution_count": 16,
   "metadata": {},
   "outputs": [
    {
     "name": "stdout",
     "output_type": "stream",
     "text": [
      "349 ms ± 39 ms per loop (mean ± std. dev. of 5 runs, 1 loop each)\n"
     ]
    }
   ],
   "source": [
    "%%timeit -r 5\n",
    "AAT = np.dot(A, A.T)"
   ]
  },
  {
   "cell_type": "markdown",
   "metadata": {},
   "source": [
    "Note that calculating $AA^T$ is much cheaper than calculating $A^TA$, because the matrix $A$ is \"wide\".\n",
    "\n",
    "Let us now try to test the minimal norm solution using ```np.linalg.solve``` for our test data. We calculate the minimal norm solution for all our test data, including the time it takes to calculate $AA^T$ once. Because this is a relatively large experiment, we only run this code once.\n",
    "You will have to run this on your own computer to compare against your QR implementation.\n",
    "\n",
    "You should also pass the option ```-n 1``` to make sure that the code only runs once."
   ]
  },
  {
   "cell_type": "code",
   "execution_count": 17,
   "metadata": {},
   "outputs": [
    {
     "name": "stdout",
     "output_type": "stream",
     "text": [
      "9.32 s ± 0 ns per loop (mean ± std. dev. of 1 run, 1 loop each)\n"
     ]
    }
   ],
   "source": [
    "%%timeit -r 1 -n 1\n",
    "AAT = np.dot(A, A.T)\n",
    "for i in range(N):\n",
    "    z = np.linalg.solve(AAT,Y[:,i])\n",
    "    x_sol = np.dot(A.T,z)"
   ]
  },
  {
   "cell_type": "markdown",
   "metadata": {},
   "source": [
    "Task 2\n",
    "---\n",
    "\n",
    "The below code calculates the SVD with and without ```full_matrices = False```\n",
    "to show how much time we can save."
   ]
  },
  {
   "cell_type": "code",
   "execution_count": 18,
   "metadata": {},
   "outputs": [
    {
     "name": "stdout",
     "output_type": "stream",
     "text": [
      "(2048, 2048)\n",
      "(2048,)\n",
      "(8096, 8096)\n",
      "17.1 s ± 0 ns per loop (mean ± std. dev. of 1 run, 1 loop each)\n"
     ]
    }
   ],
   "source": [
    "%%timeit -r 1 -n 1\n",
    "U,S,Vt = np.linalg.svd(A)\n",
    "print(U.shape) # Expect (m,m)\n",
    "print(S.shape) # Expect (m)\n",
    "print(Vt.shape) # Expect (n,n) A lot of redundant vectors!"
   ]
  },
  {
   "cell_type": "code",
   "execution_count": 19,
   "metadata": {},
   "outputs": [
    {
     "name": "stdout",
     "output_type": "stream",
     "text": [
      "(2048, 2048)\n",
      "(2048,)\n",
      "(2048, 8096)\n",
      "8.74 s ± 0 ns per loop (mean ± std. dev. of 1 run, 1 loop each)\n"
     ]
    }
   ],
   "source": [
    "%%timeit -r 1 -n 1\n",
    "U,S,Vt = np.linalg.svd(A,full_matrices = False)\n",
    "print(U.shape) # Expect (m,m)\n",
    "print(S.shape) # Expect (m)\n",
    "print(Vt.shape) # Expect (m,n) A lot less redundant vectors!"
   ]
  },
  {
   "cell_type": "markdown",
   "metadata": {},
   "source": [
    "That's alotta ~~damage~~ timesave, as we don't have to calculate $8192 - 2048$ extra singular vectors. "
   ]
  },
  {
   "cell_type": "markdown",
   "metadata": {},
   "source": [
    "Task 3\n",
    "---\n",
    "\n",
    "Below code loads $100$ example mixed images stored in ```mixed.npy``` as an $784 \\times 100$ array, and shows you how you can plot two example images. The file should be placed in a folder named ```Data``` in the folder where you have this notebook. You have to reshape the $784$ array into a $28 \\times 28$ array to plot the image. We recommend using the ```gray``` colormap. "
   ]
  },
  {
   "cell_type": "code",
   "execution_count": 20,
   "metadata": {},
   "outputs": [
    {
     "name": "stdout",
     "output_type": "stream",
     "text": [
      "(784, 100)\n"
     ]
    },
    {
     "data": {
      "image/png": "[encoded data removed]",
      "text/plain": [
       "<Figure size 432x288 with 1 Axes>"
      ]
     },
     "metadata": {
      "needs_background": "light"
     },
     "output_type": "display_data"
    },
    {
     "data": {
      "image/png": "[encoded data removed]",
      "text/plain": [
       "<Figure size 432x288 with 1 Axes>"
      ]
     },
     "metadata": {
      "needs_background": "light"
     },
     "output_type": "display_data"
    }
   ],
   "source": [
    "Mixes = np.load('Data/mixed.npy')\n",
    "print(Mixes.shape) # Should be (784,100)\n",
    "\n",
    "plt.imshow(Mixes[:,1].reshape((28,28)), cmap = 'gray')\n",
    "plt.axis('off') # Removes the x and y axis to plot only the image\n",
    "plt.show()\n",
    "\n",
    "plt.imshow(Mixes[:,32].reshape((28,28)), cmap = 'gray')\n",
    "plt.axis('off') # Removes the x and y axis to plot only the image\n",
    "plt.show()"
   ]
  },
  {
   "cell_type": "markdown",
   "metadata": {},
   "source": [
    "The below code loads the two matrices containing the basis vectors $W_0$ and $W_1$. We plot the first basis vector of $W_0$ to show that it more or less looks like a zero-digit. $W_0$ and $W_1$ are supposed to have orthogonal columns, so we should have $W_0^T W_0 = I$. We check if this is the case calculating $W_0^T W_0$ and using ```plt.imshow``` to see if this is (roughly) the identity matrix. "
   ]
  },
  {
   "cell_type": "code",
   "execution_count": 50,
   "metadata": {},
   "outputs": [
    {
     "name": "stdout",
     "output_type": "stream",
     "text": [
      "(784, 16)\n",
      "(784, 16)\n"
     ]
    },
    {
     "data": {
      "image/png": "[encoded data removed]",
      "text/plain": [
       "<Figure size 432x288 with 1 Axes>"
      ]
     },
     "metadata": {
      "needs_background": "light"
     },
     "output_type": "display_data"
    },
    {
     "data": {
      "image/png": "[encoded data removed]",
      "text/plain": [
       "<Figure size 432x288 with 1 Axes>"
      ]
     },
     "metadata": {
      "needs_background": "light"
     },
     "output_type": "display_data"
    }
   ],
   "source": [
    "W0 = np.load('Data/W0.npy')\n",
    "W1 = np.load('Data/W1.npy')\n",
    "print(W0.shape) # Should be (784,16)\n",
    "print(W1.shape) # Should be (784,16)\n",
    "\n",
    "plt.imshow(W0[:,0].reshape((28,28)), cmap = 'gray')\n",
    "plt.axis('off')\n",
    "plt.show()\n",
    "\n",
    "W0TW0 = np.dot(W0.T, W0)\n",
    "plt.imshow(W0TW0)\n",
    "plt.show()"
   ]
  }
 ],
 "metadata": {
  "kernelspec": {
   "display_name": "Python 3.8.3 ('base')",
   "language": "python",
   "name": "python3"
  },
  "language_info": {
   "codemirror_mode": {
    "name": "ipython",
    "version": 3
   },
   "file_extension": ".py",
   "mimetype": "text/x-python",
   "name": "python",
   "nbconvert_exporter": "python",
   "pygments_lexer": "ipython3",
   "version": "3.8.3"
  },
  "orig_nbformat": 4,
  "vscode": {
   "interpreter": {
    "hash": "6c316e93d24558c110aa6e5084d987425c692a1c5fe270bdb5157dd4452fa664"
   }
  }
 },
 "nbformat": 4,
 "nbformat_minor": 2
}
